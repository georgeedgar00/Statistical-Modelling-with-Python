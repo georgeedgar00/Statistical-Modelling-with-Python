{
 "cells": [
  {
   "cell_type": "code",
   "execution_count": 1,
   "id": "b2441763",
   "metadata": {},
   "outputs": [],
   "source": [
    "# imports\n",
    "import requests\n",
    "import json\n",
    "import pandas as pd\n",
    "import os\n",
    "import time"
   ]
  },
  {
   "cell_type": "markdown",
   "id": "1186a2d4",
   "metadata": {},
   "source": [
    "# Foursquare"
   ]
  },
  {
   "cell_type": "markdown",
   "id": "26726736",
   "metadata": {},
   "source": [
    "Send a request to Foursquare with a small radius (1000m) for all the bike stations in your city of choice."
   ]
  },
  {
   "cell_type": "code",
   "execution_count": 2,
   "id": "f1503213",
   "metadata": {},
   "outputs": [],
   "source": [
    "data = pd.read_csv('df_city_bike.csv')"
   ]
  },
  {
   "cell_type": "code",
   "execution_count": 3,
   "id": "621d956a",
   "metadata": {},
   "outputs": [],
   "source": [
    "data.dropna(subset=['latitude', 'longitude'], inplace=True)\n",
    "# creation of variable with lon and lat together\n",
    "data['ll'] = data['latitude'].astype(str) + ',' + data['longitude'].astype(str)\n",
    "data = data[data['ll'] != '0.0,0.0']\n",
    "\n",
    "#list of longitude and latitude from bike station dataframe\n",
    "bike_ll = list(set(data['ll']))"
   ]
  },
  {
   "cell_type": "code",
   "execution_count": 5,
   "id": "45ed0f34",
   "metadata": {},
   "outputs": [],
   "source": [
    "#replace , so we can add the ll of stations to URL\n",
    "bike_stop_ll = [s.replace(',', '%2C') for s in bike_ll]"
   ]
  },
  {
   "cell_type": "code",
   "execution_count": 6,
   "id": "89a67bbf",
   "metadata": {},
   "outputs": [],
   "source": [
    "# went to https://location.foursquare.com/developer/reference/place-search and \n",
    "# https://location.foursquare.com/developer/reference/response-fields to check how API call should be made\n",
    "# checked categories https://location.foursquare.com/places/docs/categories\n",
    "\n",
    "#set the key\n",
    "api_key = os.environ[\"FOURSQUARE_KEY\"]\n",
    "\n",
    "# Create dictionary for headers\n",
    "headers = {\"Accept\": \"application/json\"}\n",
    "\n",
    "# Add key with our API KEY\n",
    "headers['Authorization'] = api_key"
   ]
  },
  {
   "cell_type": "code",
   "execution_count": 7,
   "id": "94766a75",
   "metadata": {},
   "outputs": [
    {
     "ename": "KeyboardInterrupt",
     "evalue": "",
     "output_type": "error",
     "traceback": [
      "\u001b[1;31m---------------------------------------------------------------------------\u001b[0m",
      "\u001b[1;31mKeyboardInterrupt\u001b[0m                         Traceback (most recent call last)",
      "Cell \u001b[1;32mIn[7], line 7\u001b[0m\n\u001b[0;32m      5\u001b[0m \u001b[38;5;28;01mtry\u001b[39;00m:\n\u001b[0;32m      6\u001b[0m     url \u001b[38;5;241m=\u001b[39m \u001b[38;5;124m\"\u001b[39m\u001b[38;5;124mhttps://api.foursquare.com/v3/places/search?radius=1000&fields=categories\u001b[39m\u001b[38;5;124m%\u001b[39m\u001b[38;5;124m2Crating\u001b[39m\u001b[38;5;124m%\u001b[39m\u001b[38;5;124m2Cgeocodes\u001b[39m\u001b[38;5;124m%\u001b[39m\u001b[38;5;124m2Ccategories\u001b[39m\u001b[38;5;124m%\u001b[39m\u001b[38;5;124m2Clocation\u001b[39m\u001b[38;5;124m%\u001b[39m\u001b[38;5;124m2Cname\u001b[39m\u001b[38;5;124m%\u001b[39m\u001b[38;5;124m2Cfsq_id\u001b[39m\u001b[38;5;124m%\u001b[39m\u001b[38;5;124m2Cstats\u001b[39m\u001b[38;5;124m%\u001b[39m\u001b[38;5;124m2Cprice&limit=20&ll=\u001b[39m\u001b[38;5;124m\"\u001b[39m \u001b[38;5;241m+\u001b[39m station\n\u001b[1;32m----> 7\u001b[0m     response \u001b[38;5;241m=\u001b[39m \u001b[43mrequests\u001b[49m\u001b[38;5;241;43m.\u001b[39;49m\u001b[43mget\u001b[49m\u001b[43m(\u001b[49m\u001b[43murl\u001b[49m\u001b[43m,\u001b[49m\u001b[43m \u001b[49m\u001b[43mheaders\u001b[49m\u001b[38;5;241;43m=\u001b[39;49m\u001b[43mheaders\u001b[49m\u001b[43m)\u001b[49m\n\u001b[0;32m      9\u001b[0m     \u001b[38;5;28;01mif\u001b[39;00m response\u001b[38;5;241m.\u001b[39mstatus_code \u001b[38;5;241m==\u001b[39m \u001b[38;5;241m200\u001b[39m:\n\u001b[0;32m     10\u001b[0m         foursquare_list_rich_20\u001b[38;5;241m.\u001b[39mappend(response\u001b[38;5;241m.\u001b[39mjson())\n",
      "File \u001b[1;32m~\\anaconda3\\lib\\site-packages\\requests\\api.py:73\u001b[0m, in \u001b[0;36mget\u001b[1;34m(url, params, **kwargs)\u001b[0m\n\u001b[0;32m     62\u001b[0m \u001b[38;5;28;01mdef\u001b[39;00m \u001b[38;5;21mget\u001b[39m(url, params\u001b[38;5;241m=\u001b[39m\u001b[38;5;28;01mNone\u001b[39;00m, \u001b[38;5;241m*\u001b[39m\u001b[38;5;241m*\u001b[39mkwargs):\n\u001b[0;32m     63\u001b[0m \u001b[38;5;250m    \u001b[39m\u001b[38;5;124mr\u001b[39m\u001b[38;5;124;03m\"\"\"Sends a GET request.\u001b[39;00m\n\u001b[0;32m     64\u001b[0m \n\u001b[0;32m     65\u001b[0m \u001b[38;5;124;03m    :param url: URL for the new :class:`Request` object.\u001b[39;00m\n\u001b[1;32m   (...)\u001b[0m\n\u001b[0;32m     70\u001b[0m \u001b[38;5;124;03m    :rtype: requests.Response\u001b[39;00m\n\u001b[0;32m     71\u001b[0m \u001b[38;5;124;03m    \"\"\"\u001b[39;00m\n\u001b[1;32m---> 73\u001b[0m     \u001b[38;5;28;01mreturn\u001b[39;00m request(\u001b[38;5;124m\"\u001b[39m\u001b[38;5;124mget\u001b[39m\u001b[38;5;124m\"\u001b[39m, url, params\u001b[38;5;241m=\u001b[39mparams, \u001b[38;5;241m*\u001b[39m\u001b[38;5;241m*\u001b[39mkwargs)\n",
      "File \u001b[1;32m~\\anaconda3\\lib\\site-packages\\requests\\api.py:59\u001b[0m, in \u001b[0;36mrequest\u001b[1;34m(method, url, **kwargs)\u001b[0m\n\u001b[0;32m     55\u001b[0m \u001b[38;5;66;03m# By using the 'with' statement we are sure the session is closed, thus we\u001b[39;00m\n\u001b[0;32m     56\u001b[0m \u001b[38;5;66;03m# avoid leaving sockets open which can trigger a ResourceWarning in some\u001b[39;00m\n\u001b[0;32m     57\u001b[0m \u001b[38;5;66;03m# cases, and look like a memory leak in others.\u001b[39;00m\n\u001b[0;32m     58\u001b[0m \u001b[38;5;28;01mwith\u001b[39;00m sessions\u001b[38;5;241m.\u001b[39mSession() \u001b[38;5;28;01mas\u001b[39;00m session:\n\u001b[1;32m---> 59\u001b[0m     \u001b[38;5;28;01mreturn\u001b[39;00m session\u001b[38;5;241m.\u001b[39mrequest(method\u001b[38;5;241m=\u001b[39mmethod, url\u001b[38;5;241m=\u001b[39murl, \u001b[38;5;241m*\u001b[39m\u001b[38;5;241m*\u001b[39mkwargs)\n",
      "File \u001b[1;32m~\\anaconda3\\lib\\site-packages\\requests\\sessions.py:587\u001b[0m, in \u001b[0;36mSession.request\u001b[1;34m(self, method, url, params, data, headers, cookies, files, auth, timeout, allow_redirects, proxies, hooks, stream, verify, cert, json)\u001b[0m\n\u001b[0;32m    582\u001b[0m send_kwargs \u001b[38;5;241m=\u001b[39m {\n\u001b[0;32m    583\u001b[0m     \u001b[38;5;124m\"\u001b[39m\u001b[38;5;124mtimeout\u001b[39m\u001b[38;5;124m\"\u001b[39m: timeout,\n\u001b[0;32m    584\u001b[0m     \u001b[38;5;124m\"\u001b[39m\u001b[38;5;124mallow_redirects\u001b[39m\u001b[38;5;124m\"\u001b[39m: allow_redirects,\n\u001b[0;32m    585\u001b[0m }\n\u001b[0;32m    586\u001b[0m send_kwargs\u001b[38;5;241m.\u001b[39mupdate(settings)\n\u001b[1;32m--> 587\u001b[0m resp \u001b[38;5;241m=\u001b[39m \u001b[38;5;28mself\u001b[39m\u001b[38;5;241m.\u001b[39msend(prep, \u001b[38;5;241m*\u001b[39m\u001b[38;5;241m*\u001b[39msend_kwargs)\n\u001b[0;32m    589\u001b[0m \u001b[38;5;28;01mreturn\u001b[39;00m resp\n",
      "File \u001b[1;32m~\\anaconda3\\lib\\site-packages\\requests\\sessions.py:701\u001b[0m, in \u001b[0;36mSession.send\u001b[1;34m(self, request, **kwargs)\u001b[0m\n\u001b[0;32m    698\u001b[0m start \u001b[38;5;241m=\u001b[39m preferred_clock()\n\u001b[0;32m    700\u001b[0m \u001b[38;5;66;03m# Send the request\u001b[39;00m\n\u001b[1;32m--> 701\u001b[0m r \u001b[38;5;241m=\u001b[39m adapter\u001b[38;5;241m.\u001b[39msend(request, \u001b[38;5;241m*\u001b[39m\u001b[38;5;241m*\u001b[39mkwargs)\n\u001b[0;32m    703\u001b[0m \u001b[38;5;66;03m# Total elapsed time of the request (approximately)\u001b[39;00m\n\u001b[0;32m    704\u001b[0m elapsed \u001b[38;5;241m=\u001b[39m preferred_clock() \u001b[38;5;241m-\u001b[39m start\n",
      "File \u001b[1;32m~\\anaconda3\\lib\\site-packages\\requests\\adapters.py:487\u001b[0m, in \u001b[0;36mHTTPAdapter.send\u001b[1;34m(self, request, stream, timeout, verify, cert, proxies)\u001b[0m\n\u001b[0;32m    484\u001b[0m     timeout \u001b[38;5;241m=\u001b[39m TimeoutSauce(connect\u001b[38;5;241m=\u001b[39mtimeout, read\u001b[38;5;241m=\u001b[39mtimeout)\n\u001b[0;32m    486\u001b[0m \u001b[38;5;28;01mtry\u001b[39;00m:\n\u001b[1;32m--> 487\u001b[0m     resp \u001b[38;5;241m=\u001b[39m \u001b[43mconn\u001b[49m\u001b[38;5;241;43m.\u001b[39;49m\u001b[43murlopen\u001b[49m\u001b[43m(\u001b[49m\n\u001b[0;32m    488\u001b[0m \u001b[43m        \u001b[49m\u001b[43mmethod\u001b[49m\u001b[38;5;241;43m=\u001b[39;49m\u001b[43mrequest\u001b[49m\u001b[38;5;241;43m.\u001b[39;49m\u001b[43mmethod\u001b[49m\u001b[43m,\u001b[49m\n\u001b[0;32m    489\u001b[0m \u001b[43m        \u001b[49m\u001b[43murl\u001b[49m\u001b[38;5;241;43m=\u001b[39;49m\u001b[43murl\u001b[49m\u001b[43m,\u001b[49m\n\u001b[0;32m    490\u001b[0m \u001b[43m        \u001b[49m\u001b[43mbody\u001b[49m\u001b[38;5;241;43m=\u001b[39;49m\u001b[43mrequest\u001b[49m\u001b[38;5;241;43m.\u001b[39;49m\u001b[43mbody\u001b[49m\u001b[43m,\u001b[49m\n\u001b[0;32m    491\u001b[0m \u001b[43m        \u001b[49m\u001b[43mheaders\u001b[49m\u001b[38;5;241;43m=\u001b[39;49m\u001b[43mrequest\u001b[49m\u001b[38;5;241;43m.\u001b[39;49m\u001b[43mheaders\u001b[49m\u001b[43m,\u001b[49m\n\u001b[0;32m    492\u001b[0m \u001b[43m        \u001b[49m\u001b[43mredirect\u001b[49m\u001b[38;5;241;43m=\u001b[39;49m\u001b[38;5;28;43;01mFalse\u001b[39;49;00m\u001b[43m,\u001b[49m\n\u001b[0;32m    493\u001b[0m \u001b[43m        \u001b[49m\u001b[43massert_same_host\u001b[49m\u001b[38;5;241;43m=\u001b[39;49m\u001b[38;5;28;43;01mFalse\u001b[39;49;00m\u001b[43m,\u001b[49m\n\u001b[0;32m    494\u001b[0m \u001b[43m        \u001b[49m\u001b[43mpreload_content\u001b[49m\u001b[38;5;241;43m=\u001b[39;49m\u001b[38;5;28;43;01mFalse\u001b[39;49;00m\u001b[43m,\u001b[49m\n\u001b[0;32m    495\u001b[0m \u001b[43m        \u001b[49m\u001b[43mdecode_content\u001b[49m\u001b[38;5;241;43m=\u001b[39;49m\u001b[38;5;28;43;01mFalse\u001b[39;49;00m\u001b[43m,\u001b[49m\n\u001b[0;32m    496\u001b[0m \u001b[43m        \u001b[49m\u001b[43mretries\u001b[49m\u001b[38;5;241;43m=\u001b[39;49m\u001b[38;5;28;43mself\u001b[39;49m\u001b[38;5;241;43m.\u001b[39;49m\u001b[43mmax_retries\u001b[49m\u001b[43m,\u001b[49m\n\u001b[0;32m    497\u001b[0m \u001b[43m        \u001b[49m\u001b[43mtimeout\u001b[49m\u001b[38;5;241;43m=\u001b[39;49m\u001b[43mtimeout\u001b[49m\u001b[43m,\u001b[49m\n\u001b[0;32m    498\u001b[0m \u001b[43m        \u001b[49m\u001b[43mchunked\u001b[49m\u001b[38;5;241;43m=\u001b[39;49m\u001b[43mchunked\u001b[49m\u001b[43m,\u001b[49m\n\u001b[0;32m    499\u001b[0m \u001b[43m    \u001b[49m\u001b[43m)\u001b[49m\n\u001b[0;32m    501\u001b[0m \u001b[38;5;28;01mexcept\u001b[39;00m (ProtocolError, \u001b[38;5;167;01mOSError\u001b[39;00m) \u001b[38;5;28;01mas\u001b[39;00m err:\n\u001b[0;32m    502\u001b[0m     \u001b[38;5;28;01mraise\u001b[39;00m \u001b[38;5;167;01mConnectionError\u001b[39;00m(err, request\u001b[38;5;241m=\u001b[39mrequest)\n",
      "File \u001b[1;32m~\\anaconda3\\lib\\site-packages\\urllib3\\connectionpool.py:714\u001b[0m, in \u001b[0;36mHTTPConnectionPool.urlopen\u001b[1;34m(self, method, url, body, headers, retries, redirect, assert_same_host, timeout, pool_timeout, release_conn, chunked, body_pos, **response_kw)\u001b[0m\n\u001b[0;32m    711\u001b[0m     \u001b[38;5;28mself\u001b[39m\u001b[38;5;241m.\u001b[39m_prepare_proxy(conn)\n\u001b[0;32m    713\u001b[0m \u001b[38;5;66;03m# Make the request on the httplib connection object.\u001b[39;00m\n\u001b[1;32m--> 714\u001b[0m httplib_response \u001b[38;5;241m=\u001b[39m \u001b[38;5;28;43mself\u001b[39;49m\u001b[38;5;241;43m.\u001b[39;49m\u001b[43m_make_request\u001b[49m\u001b[43m(\u001b[49m\n\u001b[0;32m    715\u001b[0m \u001b[43m    \u001b[49m\u001b[43mconn\u001b[49m\u001b[43m,\u001b[49m\n\u001b[0;32m    716\u001b[0m \u001b[43m    \u001b[49m\u001b[43mmethod\u001b[49m\u001b[43m,\u001b[49m\n\u001b[0;32m    717\u001b[0m \u001b[43m    \u001b[49m\u001b[43murl\u001b[49m\u001b[43m,\u001b[49m\n\u001b[0;32m    718\u001b[0m \u001b[43m    \u001b[49m\u001b[43mtimeout\u001b[49m\u001b[38;5;241;43m=\u001b[39;49m\u001b[43mtimeout_obj\u001b[49m\u001b[43m,\u001b[49m\n\u001b[0;32m    719\u001b[0m \u001b[43m    \u001b[49m\u001b[43mbody\u001b[49m\u001b[38;5;241;43m=\u001b[39;49m\u001b[43mbody\u001b[49m\u001b[43m,\u001b[49m\n\u001b[0;32m    720\u001b[0m \u001b[43m    \u001b[49m\u001b[43mheaders\u001b[49m\u001b[38;5;241;43m=\u001b[39;49m\u001b[43mheaders\u001b[49m\u001b[43m,\u001b[49m\n\u001b[0;32m    721\u001b[0m \u001b[43m    \u001b[49m\u001b[43mchunked\u001b[49m\u001b[38;5;241;43m=\u001b[39;49m\u001b[43mchunked\u001b[49m\u001b[43m,\u001b[49m\n\u001b[0;32m    722\u001b[0m \u001b[43m\u001b[49m\u001b[43m)\u001b[49m\n\u001b[0;32m    724\u001b[0m \u001b[38;5;66;03m# If we're going to release the connection in ``finally:``, then\u001b[39;00m\n\u001b[0;32m    725\u001b[0m \u001b[38;5;66;03m# the response doesn't need to know about the connection. Otherwise\u001b[39;00m\n\u001b[0;32m    726\u001b[0m \u001b[38;5;66;03m# it will also try to release it and we'll have a double-release\u001b[39;00m\n\u001b[0;32m    727\u001b[0m \u001b[38;5;66;03m# mess.\u001b[39;00m\n\u001b[0;32m    728\u001b[0m response_conn \u001b[38;5;241m=\u001b[39m conn \u001b[38;5;28;01mif\u001b[39;00m \u001b[38;5;129;01mnot\u001b[39;00m release_conn \u001b[38;5;28;01melse\u001b[39;00m \u001b[38;5;28;01mNone\u001b[39;00m\n",
      "File \u001b[1;32m~\\anaconda3\\lib\\site-packages\\urllib3\\connectionpool.py:403\u001b[0m, in \u001b[0;36mHTTPConnectionPool._make_request\u001b[1;34m(self, conn, method, url, timeout, chunked, **httplib_request_kw)\u001b[0m\n\u001b[0;32m    401\u001b[0m \u001b[38;5;66;03m# Trigger any extra validation we need to do.\u001b[39;00m\n\u001b[0;32m    402\u001b[0m \u001b[38;5;28;01mtry\u001b[39;00m:\n\u001b[1;32m--> 403\u001b[0m     \u001b[38;5;28;43mself\u001b[39;49m\u001b[38;5;241;43m.\u001b[39;49m\u001b[43m_validate_conn\u001b[49m\u001b[43m(\u001b[49m\u001b[43mconn\u001b[49m\u001b[43m)\u001b[49m\n\u001b[0;32m    404\u001b[0m \u001b[38;5;28;01mexcept\u001b[39;00m (SocketTimeout, BaseSSLError) \u001b[38;5;28;01mas\u001b[39;00m e:\n\u001b[0;32m    405\u001b[0m     \u001b[38;5;66;03m# Py2 raises this as a BaseSSLError, Py3 raises it as socket timeout.\u001b[39;00m\n\u001b[0;32m    406\u001b[0m     \u001b[38;5;28mself\u001b[39m\u001b[38;5;241m.\u001b[39m_raise_timeout(err\u001b[38;5;241m=\u001b[39me, url\u001b[38;5;241m=\u001b[39murl, timeout_value\u001b[38;5;241m=\u001b[39mconn\u001b[38;5;241m.\u001b[39mtimeout)\n",
      "File \u001b[1;32m~\\anaconda3\\lib\\site-packages\\urllib3\\connectionpool.py:1053\u001b[0m, in \u001b[0;36mHTTPSConnectionPool._validate_conn\u001b[1;34m(self, conn)\u001b[0m\n\u001b[0;32m   1051\u001b[0m \u001b[38;5;66;03m# Force connect early to allow us to validate the connection.\u001b[39;00m\n\u001b[0;32m   1052\u001b[0m \u001b[38;5;28;01mif\u001b[39;00m \u001b[38;5;129;01mnot\u001b[39;00m \u001b[38;5;28mgetattr\u001b[39m(conn, \u001b[38;5;124m\"\u001b[39m\u001b[38;5;124msock\u001b[39m\u001b[38;5;124m\"\u001b[39m, \u001b[38;5;28;01mNone\u001b[39;00m):  \u001b[38;5;66;03m# AppEngine might not have  `.sock`\u001b[39;00m\n\u001b[1;32m-> 1053\u001b[0m     \u001b[43mconn\u001b[49m\u001b[38;5;241;43m.\u001b[39;49m\u001b[43mconnect\u001b[49m\u001b[43m(\u001b[49m\u001b[43m)\u001b[49m\n\u001b[0;32m   1055\u001b[0m \u001b[38;5;28;01mif\u001b[39;00m \u001b[38;5;129;01mnot\u001b[39;00m conn\u001b[38;5;241m.\u001b[39mis_verified:\n\u001b[0;32m   1056\u001b[0m     warnings\u001b[38;5;241m.\u001b[39mwarn(\n\u001b[0;32m   1057\u001b[0m         (\n\u001b[0;32m   1058\u001b[0m             \u001b[38;5;124m\"\u001b[39m\u001b[38;5;124mUnverified HTTPS request is being made to host \u001b[39m\u001b[38;5;124m'\u001b[39m\u001b[38;5;132;01m%s\u001b[39;00m\u001b[38;5;124m'\u001b[39m\u001b[38;5;124m. \u001b[39m\u001b[38;5;124m\"\u001b[39m\n\u001b[1;32m   (...)\u001b[0m\n\u001b[0;32m   1063\u001b[0m         InsecureRequestWarning,\n\u001b[0;32m   1064\u001b[0m     )\n",
      "File \u001b[1;32m~\\anaconda3\\lib\\site-packages\\urllib3\\connection.py:363\u001b[0m, in \u001b[0;36mHTTPSConnection.connect\u001b[1;34m(self)\u001b[0m\n\u001b[0;32m    361\u001b[0m \u001b[38;5;28;01mdef\u001b[39;00m \u001b[38;5;21mconnect\u001b[39m(\u001b[38;5;28mself\u001b[39m):\n\u001b[0;32m    362\u001b[0m     \u001b[38;5;66;03m# Add certificate verification\u001b[39;00m\n\u001b[1;32m--> 363\u001b[0m     \u001b[38;5;28mself\u001b[39m\u001b[38;5;241m.\u001b[39msock \u001b[38;5;241m=\u001b[39m conn \u001b[38;5;241m=\u001b[39m \u001b[38;5;28;43mself\u001b[39;49m\u001b[38;5;241;43m.\u001b[39;49m\u001b[43m_new_conn\u001b[49m\u001b[43m(\u001b[49m\u001b[43m)\u001b[49m\n\u001b[0;32m    364\u001b[0m     hostname \u001b[38;5;241m=\u001b[39m \u001b[38;5;28mself\u001b[39m\u001b[38;5;241m.\u001b[39mhost\n\u001b[0;32m    365\u001b[0m     tls_in_tls \u001b[38;5;241m=\u001b[39m \u001b[38;5;28;01mFalse\u001b[39;00m\n",
      "File \u001b[1;32m~\\anaconda3\\lib\\site-packages\\urllib3\\connection.py:174\u001b[0m, in \u001b[0;36mHTTPConnection._new_conn\u001b[1;34m(self)\u001b[0m\n\u001b[0;32m    171\u001b[0m     extra_kw[\u001b[38;5;124m\"\u001b[39m\u001b[38;5;124msocket_options\u001b[39m\u001b[38;5;124m\"\u001b[39m] \u001b[38;5;241m=\u001b[39m \u001b[38;5;28mself\u001b[39m\u001b[38;5;241m.\u001b[39msocket_options\n\u001b[0;32m    173\u001b[0m \u001b[38;5;28;01mtry\u001b[39;00m:\n\u001b[1;32m--> 174\u001b[0m     conn \u001b[38;5;241m=\u001b[39m connection\u001b[38;5;241m.\u001b[39mcreate_connection(\n\u001b[0;32m    175\u001b[0m         (\u001b[38;5;28mself\u001b[39m\u001b[38;5;241m.\u001b[39m_dns_host, \u001b[38;5;28mself\u001b[39m\u001b[38;5;241m.\u001b[39mport), \u001b[38;5;28mself\u001b[39m\u001b[38;5;241m.\u001b[39mtimeout, \u001b[38;5;241m*\u001b[39m\u001b[38;5;241m*\u001b[39mextra_kw\n\u001b[0;32m    176\u001b[0m     )\n\u001b[0;32m    178\u001b[0m \u001b[38;5;28;01mexcept\u001b[39;00m SocketTimeout:\n\u001b[0;32m    179\u001b[0m     \u001b[38;5;28;01mraise\u001b[39;00m ConnectTimeoutError(\n\u001b[0;32m    180\u001b[0m         \u001b[38;5;28mself\u001b[39m,\n\u001b[0;32m    181\u001b[0m         \u001b[38;5;124m\"\u001b[39m\u001b[38;5;124mConnection to \u001b[39m\u001b[38;5;132;01m%s\u001b[39;00m\u001b[38;5;124m timed out. (connect timeout=\u001b[39m\u001b[38;5;132;01m%s\u001b[39;00m\u001b[38;5;124m)\u001b[39m\u001b[38;5;124m\"\u001b[39m\n\u001b[0;32m    182\u001b[0m         \u001b[38;5;241m%\u001b[39m (\u001b[38;5;28mself\u001b[39m\u001b[38;5;241m.\u001b[39mhost, \u001b[38;5;28mself\u001b[39m\u001b[38;5;241m.\u001b[39mtimeout),\n\u001b[0;32m    183\u001b[0m     )\n",
      "File \u001b[1;32m~\\anaconda3\\lib\\site-packages\\urllib3\\util\\connection.py:85\u001b[0m, in \u001b[0;36mcreate_connection\u001b[1;34m(address, timeout, source_address, socket_options)\u001b[0m\n\u001b[0;32m     83\u001b[0m     \u001b[38;5;28;01mif\u001b[39;00m source_address:\n\u001b[0;32m     84\u001b[0m         sock\u001b[38;5;241m.\u001b[39mbind(source_address)\n\u001b[1;32m---> 85\u001b[0m     \u001b[43msock\u001b[49m\u001b[38;5;241;43m.\u001b[39;49m\u001b[43mconnect\u001b[49m\u001b[43m(\u001b[49m\u001b[43msa\u001b[49m\u001b[43m)\u001b[49m\n\u001b[0;32m     86\u001b[0m     \u001b[38;5;28;01mreturn\u001b[39;00m sock\n\u001b[0;32m     88\u001b[0m \u001b[38;5;28;01mexcept\u001b[39;00m socket\u001b[38;5;241m.\u001b[39merror \u001b[38;5;28;01mas\u001b[39;00m e:\n",
      "\u001b[1;31mKeyboardInterrupt\u001b[0m: "
     ]
    }
   ],
   "source": [
    "foursquare_list_rich_20 = []\n",
    "\n",
    "# Getting data for places around bike stops\n",
    "for station in bike_stop_ll:\n",
    "    try:\n",
    "        url = \"https://api.foursquare.com/v3/places/search?radius=1000&fields=categories%2Crating%2Cgeocodes%2Ccategories%2Clocation%2Cname%2Cfsq_id%2Cstats%2Cprice&limit=20&ll=\" + station\n",
    "        response = requests.get(url, headers=headers)\n",
    "        \n",
    "        if response.status_code == 200:\n",
    "            foursquare_list_rich_20.append(response.json())\n",
    "        else:\n",
    "            print('Error occurred during the API request')\n",
    "    except Exception as e:\n",
    "        print(e)\n",
    "        if e == \"Quota exceeded\":\n",
    "            print(\"Exceeded quota: waiting for an hour\")\n",
    "            time.sleep(3600)\n"
   ]
  },
  {
   "cell_type": "markdown",
   "id": "d3b4cc01",
   "metadata": {},
   "source": [
    "Parse through the response to get the POI (such as restaurants, bars, etc) details you want (ratings, name, location, etc)"
   ]
  },
  {
   "cell_type": "code",
   "execution_count": 8,
   "id": "8e75d26b",
   "metadata": {},
   "outputs": [],
   "source": [
    "df_foursquare_20 = pd.DataFrame(columns=['row_from_station', 'fsq_id', 'category_id', 'name', 'latitude', 'longitude', 'rating', 'total_ratings', 'total_photos', 'total_tips'])\n",
    "\n",
    "for station in range(len(foursquare_list_rich_20)):\n",
    "    for result in range(len(foursquare_list_rich_20[station]['results'])):\n",
    "        if 'fsq_id' in foursquare_list_rich_20[station]['results'][result]:\n",
    "            fsq_id = foursquare_list_rich_20[station]['results'][result]['fsq_id']\n",
    "        else:\n",
    "            fsq_id = None\n",
    "            \n",
    "        if 'categories' in foursquare_list_rich_20[station]['results'][result] and len(foursquare_list_rich_20[station]['results'][result]['categories']) > 0:\n",
    "            category_id = foursquare_list_rich_20[station]['results'][result]['categories'][0].get('id', None)\n",
    "        else:\n",
    "            category_id = None\n",
    "            \n",
    "        if 'name' in foursquare_list_rich_20[station]['results'][result]:\n",
    "            name = foursquare_list_rich_20[station]['results'][result]['name']\n",
    "        else:\n",
    "            name = None\n",
    "            \n",
    "        if 'geocodes' in foursquare_list_rich_20[station]['results'][result] and 'main' in foursquare_list_rich_20[station]['results'][result]['geocodes']:\n",
    "            latitude = foursquare_list_rich_20[station]['results'][result]['geocodes']['main'].get('latitude', None)\n",
    "            longitude = foursquare_list_rich_20[station]['results'][result]['geocodes']['main'].get('longitude', None)\n",
    "        else:\n",
    "            latitude = None\n",
    "            longitude = None\n",
    "            \n",
    "        if 'rating' in foursquare_list_rich_20[station]['results'][result]:\n",
    "            rating = foursquare_list_rich_20[station]['results'][result]['rating']\n",
    "        else:\n",
    "            rating = None\n",
    "            \n",
    "        if 'stats' in foursquare_list_rich_20[station]['results'][result]:\n",
    "            total_ratings = foursquare_list_rich_20[station]['results'][result]['stats'].get('total_ratings', None)\n",
    "            total_photos = foursquare_list_rich_20[station]['results'][result]['stats'].get('total_photos', None)\n",
    "            total_tips = foursquare_list_rich_20[station]['results'][result]['stats'].get('total_tips', None)\n",
    "        else:\n",
    "            total_ratings = None\n",
    "            total_photos = None\n",
    "            total_tips = None\n",
    "        \n",
    "        df_foursquare_20 = pd.concat([df_foursquare_20, pd.DataFrame({\n",
    "            'row_from_station': [station],\n",
    "            'fsq_id': [fsq_id],\n",
    "            'category_id': [category_id],\n",
    "            'name': [name],\n",
    "            'latitude': [latitude],\n",
    "            'longitude': [longitude],\n",
    "            'rating': [rating],\n",
    "            'total_ratings': [total_ratings],\n",
    "            'total_photos': [total_photos],\n",
    "            'total_tips': [total_tips]\n",
    "        })], ignore_index=True)\n"
   ]
  },
  {
   "cell_type": "code",
   "execution_count": 9,
   "id": "1fc1ab12",
   "metadata": {},
   "outputs": [],
   "source": [
    "#foursquare_list (foursquare_basic.js) is a file that has only the basic information about business\n",
    "\n",
    "#foursquare_list_rich_50 (foursquare_50.js) is file that has the same code block as foursquare_rich_20, except limit for number of businesses was 50\n",
    "# df_foursquare_50.csv is dataframe for same file"
   ]
  },
  {
   "cell_type": "markdown",
   "id": "a26fef6b",
   "metadata": {},
   "source": [
    "Put your parsed results into a DataFrame"
   ]
  },
  {
   "cell_type": "code",
   "execution_count": 10,
   "id": "68131914",
   "metadata": {},
   "outputs": [],
   "source": [
    "# I already made DataFrame when parsing through foursquare json file\n",
    "\n",
    "df_foursquare_20.to_csv('df_foursquare_20.csv', index=False)"
   ]
  },
  {
   "cell_type": "markdown",
   "id": "24c7d189",
   "metadata": {},
   "source": [
    "# Yelp"
   ]
  },
  {
   "cell_type": "markdown",
   "id": "32f76fa0",
   "metadata": {},
   "source": [
    "Send a request to Yelp with a small radius (1000m) for all the bike stations in your city of choice."
   ]
  },
  {
   "cell_type": "code",
   "execution_count": 11,
   "id": "43e0c91c",
   "metadata": {},
   "outputs": [],
   "source": [
    "# Set the key\n",
    "yelp_api_key = os.environ[\"YELP_KEY\"]\n",
    "# Create dictionary for headers\n",
    "headers = {\n",
    "    \"accept\": \"application/json\",\n",
    "    \"Authorization\": \"Bearer \" + yelp_api_key\n",
    "}\n"
   ]
  },
  {
   "cell_type": "code",
   "execution_count": null,
   "id": "8014798a",
   "metadata": {},
   "outputs": [],
   "source": [
    "yelp_list = []\n",
    "\n",
    "# Getting data for places around bike stops\n",
    "for index in range(len(bike_stop_ll)):\n",
    "    try:\n",
    "        latitude = data.iloc[index][\"latitude\"]\n",
    "        longitude = data.iloc[index][\"longitude\"]\n",
    "        yelp_url = \"https://api.yelp.com/v3/businesses/search?latitude=\" + str(latitude) + \"&longitude=\" + str(longitude) + \"&term=park&radius=1000&categories=&sort_by=best_match&limit=20\"\n",
    "        yelp_response = requests.get(yelp_url, headers=headers)\n",
    "        \n",
    "        if yelp_response.status_code == 200:\n",
    "            yelp_list.append(yelp_response.json())\n",
    "        else:\n",
    "            print('Error occurred during the API request')\n",
    "    except Exception as e:\n",
    "        print(e)\n",
    "        if e == \"Quota exceeded\":\n",
    "            print(\"Exceeded quota: waiting for an hour\")\n",
    "            time.sleep(3600)\n",
    "\n",
    "\n"
   ]
  },
  {
   "cell_type": "markdown",
   "id": "73c429dc",
   "metadata": {},
   "source": [
    "Parse through the response to get the POI (such as restaurants, bars, etc) details you want (ratings, name, location, etc)"
   ]
  },
  {
   "cell_type": "code",
   "execution_count": null,
   "id": "f5d5e27e",
   "metadata": {},
   "outputs": [],
   "source": [
    "df_yelp = pd.DataFrame(columns=['row_from_station', 'id', 'name', 'rating', 'review_count', 'latitude', 'longitude'])"
   ]
  },
  {
   "cell_type": "code",
   "execution_count": 23,
   "id": "014776ce",
   "metadata": {},
   "outputs": [],
   "source": [
    "#parsing through 'yelp_list' from previous step to get columns for dataframe (id, name, rating, review_count, latitude and longitude)\n",
    "for station in range(len(yelp_list)):\n",
    "    for business in range(len(yelp_list[station]['businesses'])):\n",
    "        df_yelp = df_yelp.append({\n",
    "            'row_from_station': station,\n",
    "            'id': yelp_list[station]['businesses'][business]['id'],\n",
    "            'name': yelp_list[station]['businesses'][business]['name'],\n",
    "            'rating': yelp_list[station]['businesses'][business]['rating'],\n",
    "            'review_count': yelp_list[station]['businesses'][business]['review_count'],\n",
    "            'latitude': yelp_list[station]['businesses'][business]['coordinates']['latitude'],\n",
    "            'longitude': yelp_list[station]['businesses'][business]['coordinates']['longitude']\n",
    "            }, ignore_index=True)"
   ]
  },
  {
   "cell_type": "code",
   "execution_count": 24,
   "id": "8cc68c57",
   "metadata": {},
   "outputs": [
    {
     "name": "stdout",
     "output_type": "stream",
     "text": [
      "(0, 7)\n",
      "Empty DataFrame\n",
      "Columns: [row_from_station, id, name, rating, review_count, latitude, longitude]\n",
      "Index: []\n"
     ]
    }
   ],
   "source": [
    "#checking shape and first 5 rows of dataframe\n",
    "print(df_yelp.shape)\n",
    "print(df_yelp.head())"
   ]
  },
  {
   "cell_type": "code",
   "execution_count": 25,
   "id": "c32f73c0",
   "metadata": {},
   "outputs": [],
   "source": [
    "df_yelp.to_csv('df_yelp.csv', index=False)"
   ]
  },
  {
   "cell_type": "markdown",
   "id": "993c8ad5",
   "metadata": {},
   "source": [
    "# Comparing Results"
   ]
  },
  {
   "cell_type": "markdown",
   "id": "e0fbcd21",
   "metadata": {},
   "source": [
    "Which API provided you with more complete data? Provide an explanation.\n",
    "\n",
    "The Foursquare API offers more total ratings, enhancing the validity of the ratings, and its inclusion of category IDs simplifies filtering, making it more user-friendly and efficient. On average, Foursquare has 107 reviews compared to Yelp's 61.\n",
    "\n",
    "Get the top 10 restaurants according to their rating"
   ]
  },
  {
   "cell_type": "code",
   "execution_count": 26,
   "id": "8c262959",
   "metadata": {},
   "outputs": [],
   "source": [
    "#remove duplicate rows\n",
    "df_foursquare_20_clean = df_foursquare_20.drop_duplicates(subset=[\"fsq_id\"], keep='first')\n",
    "df_yelp_clean = df_yelp.drop_duplicates(subset=[\"id\"], keep='first')"
   ]
  },
  {
   "cell_type": "code",
   "execution_count": 27,
   "id": "517765f0",
   "metadata": {},
   "outputs": [
    {
     "name": "stdout",
     "output_type": "stream",
     "text": [
      "Mean for total ratings is: 199.8591873243036\n"
     ]
    },
    {
     "data": {
      "text/html": [
       "<div>\n",
       "<style scoped>\n",
       "    .dataframe tbody tr th:only-of-type {\n",
       "        vertical-align: middle;\n",
       "    }\n",
       "\n",
       "    .dataframe tbody tr th {\n",
       "        vertical-align: top;\n",
       "    }\n",
       "\n",
       "    .dataframe thead th {\n",
       "        text-align: right;\n",
       "    }\n",
       "</style>\n",
       "<table border=\"1\" class=\"dataframe\">\n",
       "  <thead>\n",
       "    <tr style=\"text-align: right;\">\n",
       "      <th></th>\n",
       "      <th>row_from_station</th>\n",
       "      <th>fsq_id</th>\n",
       "      <th>category_id</th>\n",
       "      <th>name</th>\n",
       "      <th>latitude</th>\n",
       "      <th>longitude</th>\n",
       "      <th>rating</th>\n",
       "      <th>total_ratings</th>\n",
       "      <th>total_photos</th>\n",
       "      <th>total_tips</th>\n",
       "    </tr>\n",
       "  </thead>\n",
       "  <tbody>\n",
       "    <tr>\n",
       "      <th>9505</th>\n",
       "      <td>475</td>\n",
       "      <td>4ac518d2f964a52026a720e3</td>\n",
       "      <td>16032</td>\n",
       "      <td>Hyde Park</td>\n",
       "      <td>51.507274</td>\n",
       "      <td>-0.163600</td>\n",
       "      <td>9.6</td>\n",
       "      <td>12979</td>\n",
       "      <td>32853</td>\n",
       "      <td>1124</td>\n",
       "    </tr>\n",
       "    <tr>\n",
       "      <th>2379</th>\n",
       "      <td>118</td>\n",
       "      <td>4b7ffcd1f964a520e94830e3</td>\n",
       "      <td>16039</td>\n",
       "      <td>Kensington Gardens</td>\n",
       "      <td>51.503429</td>\n",
       "      <td>-0.175275</td>\n",
       "      <td>9.6</td>\n",
       "      <td>1756</td>\n",
       "      <td>4034</td>\n",
       "      <td>183</td>\n",
       "    </tr>\n",
       "    <tr>\n",
       "      <th>3474</th>\n",
       "      <td>173</td>\n",
       "      <td>4b2e246ef964a520f9dc24e3</td>\n",
       "      <td>16032</td>\n",
       "      <td>Primrose Hill Jazz</td>\n",
       "      <td>51.541909</td>\n",
       "      <td>-0.163357</td>\n",
       "      <td>9.6</td>\n",
       "      <td>1786</td>\n",
       "      <td>2283</td>\n",
       "      <td>234</td>\n",
       "    </tr>\n",
       "    <tr>\n",
       "      <th>11708</th>\n",
       "      <td>585</td>\n",
       "      <td>4ac518cef964a520f8a520e3</td>\n",
       "      <td>17002</td>\n",
       "      <td>Tower Bridge</td>\n",
       "      <td>51.499972</td>\n",
       "      <td>-0.076936</td>\n",
       "      <td>9.5</td>\n",
       "      <td>6092</td>\n",
       "      <td>15980</td>\n",
       "      <td>470</td>\n",
       "    </tr>\n",
       "    <tr>\n",
       "      <th>2304</th>\n",
       "      <td>115</td>\n",
       "      <td>59105400772fbc7bd0b0e2b1</td>\n",
       "      <td>17073</td>\n",
       "      <td>Mestizo Mexican Market</td>\n",
       "      <td>51.527515</td>\n",
       "      <td>-0.138937</td>\n",
       "      <td>9.5</td>\n",
       "      <td>394</td>\n",
       "      <td>5</td>\n",
       "      <td>2</td>\n",
       "    </tr>\n",
       "    <tr>\n",
       "      <th>1762</th>\n",
       "      <td>88</td>\n",
       "      <td>4ad2f913f964a520ece220e3</td>\n",
       "      <td>17000</td>\n",
       "      <td>M&amp;S Simply Food</td>\n",
       "      <td>51.505494</td>\n",
       "      <td>-0.098020</td>\n",
       "      <td>9.5</td>\n",
       "      <td>80</td>\n",
       "      <td>6</td>\n",
       "      <td>0</td>\n",
       "    </tr>\n",
       "    <tr>\n",
       "      <th>1964</th>\n",
       "      <td>98</td>\n",
       "      <td>4ada57e0f964a520982121e3</td>\n",
       "      <td>17018</td>\n",
       "      <td>Daunt Books</td>\n",
       "      <td>51.520404</td>\n",
       "      <td>-0.152328</td>\n",
       "      <td>9.5</td>\n",
       "      <td>674</td>\n",
       "      <td>477</td>\n",
       "      <td>98</td>\n",
       "    </tr>\n",
       "    <tr>\n",
       "      <th>69</th>\n",
       "      <td>3</td>\n",
       "      <td>4ac518eff964a52064ad20e3</td>\n",
       "      <td>17069</td>\n",
       "      <td>Borough Market</td>\n",
       "      <td>51.505554</td>\n",
       "      <td>-0.090842</td>\n",
       "      <td>9.5</td>\n",
       "      <td>8822</td>\n",
       "      <td>8743</td>\n",
       "      <td>1068</td>\n",
       "    </tr>\n",
       "    <tr>\n",
       "      <th>6415</th>\n",
       "      <td>320</td>\n",
       "      <td>55f9c860498e9521ebb5d30f</td>\n",
       "      <td>13003</td>\n",
       "      <td>Gielgud Theatre</td>\n",
       "      <td>51.511833</td>\n",
       "      <td>-0.132991</td>\n",
       "      <td>9.5</td>\n",
       "      <td>264</td>\n",
       "      <td>None</td>\n",
       "      <td>0</td>\n",
       "    </tr>\n",
       "    <tr>\n",
       "      <th>2025</th>\n",
       "      <td>101</td>\n",
       "      <td>4ac518cef964a52027a620e3</td>\n",
       "      <td>16032</td>\n",
       "      <td>Holland Park</td>\n",
       "      <td>51.502976</td>\n",
       "      <td>-0.203482</td>\n",
       "      <td>9.5</td>\n",
       "      <td>1289</td>\n",
       "      <td>1729</td>\n",
       "      <td>136</td>\n",
       "    </tr>\n",
       "  </tbody>\n",
       "</table>\n",
       "</div>"
      ],
      "text/plain": [
       "      row_from_station                    fsq_id category_id  \\\n",
       "9505               475  4ac518d2f964a52026a720e3       16032   \n",
       "2379               118  4b7ffcd1f964a520e94830e3       16039   \n",
       "3474               173  4b2e246ef964a520f9dc24e3       16032   \n",
       "11708              585  4ac518cef964a520f8a520e3       17002   \n",
       "2304               115  59105400772fbc7bd0b0e2b1       17073   \n",
       "1762                88  4ad2f913f964a520ece220e3       17000   \n",
       "1964                98  4ada57e0f964a520982121e3       17018   \n",
       "69                   3  4ac518eff964a52064ad20e3       17069   \n",
       "6415               320  55f9c860498e9521ebb5d30f       13003   \n",
       "2025               101  4ac518cef964a52027a620e3       16032   \n",
       "\n",
       "                         name   latitude  longitude rating total_ratings  \\\n",
       "9505                Hyde Park  51.507274  -0.163600    9.6         12979   \n",
       "2379       Kensington Gardens  51.503429  -0.175275    9.6          1756   \n",
       "3474       Primrose Hill Jazz  51.541909  -0.163357    9.6          1786   \n",
       "11708            Tower Bridge  51.499972  -0.076936    9.5          6092   \n",
       "2304   Mestizo Mexican Market  51.527515  -0.138937    9.5           394   \n",
       "1762          M&S Simply Food  51.505494  -0.098020    9.5            80   \n",
       "1964              Daunt Books  51.520404  -0.152328    9.5           674   \n",
       "69             Borough Market  51.505554  -0.090842    9.5          8822   \n",
       "6415          Gielgud Theatre  51.511833  -0.132991    9.5           264   \n",
       "2025             Holland Park  51.502976  -0.203482    9.5          1289   \n",
       "\n",
       "      total_photos total_tips  \n",
       "9505         32853       1124  \n",
       "2379          4034        183  \n",
       "3474          2283        234  \n",
       "11708        15980        470  \n",
       "2304             5          2  \n",
       "1762             6          0  \n",
       "1964           477         98  \n",
       "69            8743       1068  \n",
       "6415          None          0  \n",
       "2025          1729        136  "
      ]
     },
     "execution_count": 27,
     "metadata": {},
     "output_type": "execute_result"
    }
   ],
   "source": [
    "df_foursquare_filter = df_foursquare_20_clean[\n",
    "    (df_foursquare_20_clean['total_ratings'] > 10)\n",
    "]\n",
    "print('Mean for total ratings is: ' + str(df_foursquare_filter['total_ratings'].mean()))\n",
    "df_foursquare_filter.sort_values(by=\"rating\", ascending=False).head(10)"
   ]
  },
  {
   "cell_type": "code",
   "execution_count": 1,
   "id": "963b9804",
   "metadata": {},
   "outputs": [
    {
     "ename": "NameError",
     "evalue": "name 'df_yelp_clean' is not defined",
     "output_type": "error",
     "traceback": [
      "\u001b[1;31m---------------------------------------------------------------------------\u001b[0m",
      "\u001b[1;31mNameError\u001b[0m                                 Traceback (most recent call last)",
      "Cell \u001b[1;32mIn[1], line 1\u001b[0m\n\u001b[1;32m----> 1\u001b[0m df_yelp_clean_filter \u001b[38;5;241m=\u001b[39m \u001b[43mdf_yelp_clean\u001b[49m\u001b[38;5;241m.\u001b[39mquery(\u001b[38;5;124m'\u001b[39m\u001b[38;5;124mreview_count > 10\u001b[39m\u001b[38;5;124m'\u001b[39m)\n\u001b[0;32m      2\u001b[0m \u001b[38;5;28mprint\u001b[39m(\u001b[38;5;124m\"\u001b[39m\u001b[38;5;124mMean for review_count is: \u001b[39m\u001b[38;5;124m\"\u001b[39m \u001b[38;5;241m+\u001b[39m \u001b[38;5;28mstr\u001b[39m(df_yelp_clean_filter[\u001b[38;5;124m'\u001b[39m\u001b[38;5;124mreview_count\u001b[39m\u001b[38;5;124m'\u001b[39m]\u001b[38;5;241m.\u001b[39mmean()))\n\u001b[0;32m      3\u001b[0m df_yelp_clean\u001b[38;5;241m.\u001b[39mquery(\u001b[38;5;124m'\u001b[39m\u001b[38;5;124mreview_count > 10\u001b[39m\u001b[38;5;124m'\u001b[39m)\u001b[38;5;241m.\u001b[39msort_values(by\u001b[38;5;241m=\u001b[39m\u001b[38;5;124m\"\u001b[39m\u001b[38;5;124mrating\u001b[39m\u001b[38;5;124m\"\u001b[39m, ascending\u001b[38;5;241m=\u001b[39m\u001b[38;5;28;01mFalse\u001b[39;00m)\u001b[38;5;241m.\u001b[39mhead(\u001b[38;5;241m10\u001b[39m)\n",
      "\u001b[1;31mNameError\u001b[0m: name 'df_yelp_clean' is not defined"
     ]
    }
   ],
   "source": [
    "df_yelp_clean_filter = df_yelp_clean.query('review_count > 10')\n",
    "print(\"Mean for review_count is: \" + str(df_yelp_clean_filter['review_count'].mean()))\n",
    "df_yelp_clean.query('review_count > 10').sort_values(by=\"rating\", ascending=False).head(10)"
   ]
  }
 ],
 "metadata": {
  "kernelspec": {
   "display_name": "Python 3 (ipykernel)",
   "language": "python",
   "name": "python3"
  },
  "language_info": {
   "codemirror_mode": {
    "name": "ipython",
    "version": 3
   },
   "file_extension": ".py",
   "mimetype": "text/x-python",
   "name": "python",
   "nbconvert_exporter": "python",
   "pygments_lexer": "ipython3",
   "version": "3.9.16"
  }
 },
 "nbformat": 4,
 "nbformat_minor": 5
}
