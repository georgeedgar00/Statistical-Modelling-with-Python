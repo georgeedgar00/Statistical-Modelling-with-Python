{
 "cells": [
  {
   "cell_type": "markdown",
   "id": "f15f103c",
   "metadata": {},
   "source": [
    "# CityBikes"
   ]
  },
  {
   "cell_type": "markdown",
   "id": "0dcf2c3c",
   "metadata": {},
   "source": [
    "Send a request to CityBikes for the city of your choice."
   ]
  },
  {
   "cell_type": "code",
   "execution_count": 2,
   "id": "60964262",
   "metadata": {
    "scrolled": true
   },
   "outputs": [
    {
     "ename": "ImportError",
     "evalue": "Unable to import required dependencies:\nnumpy: \n\nIMPORTANT: PLEASE READ THIS FOR ADVICE ON HOW TO SOLVE THIS ISSUE!\n\nImporting the numpy C-extensions failed. This error can happen for\nmany reasons, often due to issues with your setup or how NumPy was\ninstalled.\n\nWe have compiled some common reasons and troubleshooting tips at:\n\n    https://numpy.org/devdocs/user/troubleshooting-importerror.html\n\nPlease note and check the following:\n\n  * The Python version is: Python3.7 from \"C:\\Users\\Goerge\\anaconda3\\envs\\perm_enviro\\python.exe\"\n  * The NumPy version is: \"1.21.5\"\n\nand make sure that they are the versions you expect.\nPlease carefully study the documentation linked above for further help.\n\nOriginal error was: DLL load failed: The specified module could not be found.\n",
     "output_type": "error",
     "traceback": [
      "\u001b[1;31m---------------------------------------------------------------------------\u001b[0m",
      "\u001b[1;31mImportError\u001b[0m                               Traceback (most recent call last)",
      "\u001b[1;32m~\\AppData\\Local\\Temp\\ipykernel_25576\\222825045.py\u001b[0m in \u001b[0;36m<module>\u001b[1;34m\u001b[0m\n\u001b[0;32m      1\u001b[0m \u001b[1;32mimport\u001b[0m \u001b[0mrequests\u001b[0m\u001b[1;33m\u001b[0m\u001b[1;33m\u001b[0m\u001b[0m\n\u001b[1;32m----> 2\u001b[1;33m \u001b[1;32mimport\u001b[0m \u001b[0mpandas\u001b[0m \u001b[1;32mas\u001b[0m \u001b[0mpd\u001b[0m\u001b[1;33m\u001b[0m\u001b[1;33m\u001b[0m\u001b[0m\n\u001b[0m",
      "\u001b[1;32m~\\anaconda3\\envs\\perm_enviro\\lib\\site-packages\\pandas\\__init__.py\u001b[0m in \u001b[0;36m<module>\u001b[1;34m\u001b[0m\n\u001b[0;32m     15\u001b[0m \u001b[1;32mif\u001b[0m \u001b[0mmissing_dependencies\u001b[0m\u001b[1;33m:\u001b[0m\u001b[1;33m\u001b[0m\u001b[1;33m\u001b[0m\u001b[0m\n\u001b[0;32m     16\u001b[0m     raise ImportError(\n\u001b[1;32m---> 17\u001b[1;33m         \u001b[1;34m\"Unable to import required dependencies:\\n\"\u001b[0m \u001b[1;33m+\u001b[0m \u001b[1;34m\"\\n\"\u001b[0m\u001b[1;33m.\u001b[0m\u001b[0mjoin\u001b[0m\u001b[1;33m(\u001b[0m\u001b[0mmissing_dependencies\u001b[0m\u001b[1;33m)\u001b[0m\u001b[1;33m\u001b[0m\u001b[1;33m\u001b[0m\u001b[0m\n\u001b[0m\u001b[0;32m     18\u001b[0m     )\n\u001b[0;32m     19\u001b[0m \u001b[1;32mdel\u001b[0m \u001b[0mhard_dependencies\u001b[0m\u001b[1;33m,\u001b[0m \u001b[0mdependency\u001b[0m\u001b[1;33m,\u001b[0m \u001b[0mmissing_dependencies\u001b[0m\u001b[1;33m\u001b[0m\u001b[1;33m\u001b[0m\u001b[0m\n",
      "\u001b[1;31mImportError\u001b[0m: Unable to import required dependencies:\nnumpy: \n\nIMPORTANT: PLEASE READ THIS FOR ADVICE ON HOW TO SOLVE THIS ISSUE!\n\nImporting the numpy C-extensions failed. This error can happen for\nmany reasons, often due to issues with your setup or how NumPy was\ninstalled.\n\nWe have compiled some common reasons and troubleshooting tips at:\n\n    https://numpy.org/devdocs/user/troubleshooting-importerror.html\n\nPlease note and check the following:\n\n  * The Python version is: Python3.7 from \"C:\\Users\\Goerge\\anaconda3\\envs\\perm_enviro\\python.exe\"\n  * The NumPy version is: \"1.21.5\"\n\nand make sure that they are the versions you expect.\nPlease carefully study the documentation linked above for further help.\n\nOriginal error was: DLL load failed: The specified module could not be found.\n"
     ]
    }
   ],
   "source": [
    "import requests\n",
    "import pandas as pd"
   ]
  },
  {
   "cell_type": "markdown",
   "id": "6e47481d",
   "metadata": {},
   "source": [
    "Parse through the response to get the details you want for the bike stations in that city (latitude, longitude, number of bikes)."
   ]
  },
  {
   "cell_type": "code",
   "execution_count": 2,
   "id": "c1313904",
   "metadata": {},
   "outputs": [],
   "source": [
    "city = 'santander-cycles'\n",
    "url = f'http://api.citybik.es/v2/networks/{city}'\n",
    "response = requests.get(url)"
   ]
  },
  {
   "cell_type": "markdown",
   "id": "9d5a19b8",
   "metadata": {},
   "source": [
    "Put your parsed results into a DataFrame."
   ]
  },
  {
   "cell_type": "code",
   "execution_count": 3,
   "id": "d306873f",
   "metadata": {},
   "outputs": [],
   "source": [
    "df = pd.DataFrame()"
   ]
  },
  {
   "cell_type": "code",
   "execution_count": 4,
   "id": "c5a148c1",
   "metadata": {},
   "outputs": [
    {
     "name": "stdout",
     "output_type": "stream",
     "text": [
      "   empty_slots                                              extra  free_bikes  \\\n",
      "0           15  {'installDate': '1278947280000', 'installed': ...           4   \n",
      "1           35  {'installDate': '1278585780000', 'installed': ...           2   \n",
      "2           14  {'installDate': '1278242460000', 'installed': ...           4   \n",
      "3           18  {'installDate': '1278340440000', 'installed': ...           6   \n",
      "4           48  {'installDate': '1278340620000', 'installed': ...           1   \n",
      "\n",
      "                                 id   latitude  longitude  \\\n",
      "0  7f3020118e56165ed8b2f61899edb971  51.529163  -0.109971   \n",
      "1  67e6c16bce05410ba4b1f0f5000726ea  51.499607  -0.197574   \n",
      "2  26184215d38089fcad213ef222e69780  51.505974  -0.092754   \n",
      "3  1eabd7ac8e781befd03f52ef56a18aa7  51.523951  -0.122502   \n",
      "4  23efb32f80a9dcd0e4f61fb44b353ce1  51.521681  -0.130432   \n",
      "\n",
      "                                      name                    timestamp  \n",
      "0      001023 - River Street , Clerkenwell  2023-07-08T01:19:13.569000Z  \n",
      "1  001018 - Phillimore Gardens, Kensington  2023-07-08T01:19:13.571000Z  \n",
      "2           001024 - Park Street, Bankside  2023-07-08T01:19:13.577000Z  \n",
      "3    001022 - Brunswick Square, Bloomsbury  2023-07-08T01:19:13.578000Z  \n",
      "4        000980 - Malet Street, Bloomsbury  2023-07-08T01:19:13.579000Z  \n"
     ]
    }
   ],
   "source": [
    "\n",
    "if response.status_code == 200:\n",
    "    data = response.json()\n",
    "    station_data = data['network']['stations']\n",
    "    df = pd.DataFrame(station_data)\n",
    "    print(df.head())  # Print the first few rows of the dataframe\n",
    "else:\n",
    "    print('Error occurred:', response.status_code)\n"
   ]
  },
  {
   "cell_type": "code",
   "execution_count": 5,
   "id": "f15b7cb3",
   "metadata": {},
   "outputs": [
    {
     "data": {
      "text/plain": [
       "(796, 8)"
      ]
     },
     "execution_count": 5,
     "metadata": {},
     "output_type": "execute_result"
    }
   ],
   "source": [
    "df.shape"
   ]
  },
  {
   "cell_type": "code",
   "execution_count": 6,
   "id": "f7d1d8e4",
   "metadata": {
    "scrolled": true
   },
   "outputs": [
    {
     "data": {
      "text/html": [
       "<div>\n",
       "<style scoped>\n",
       "    .dataframe tbody tr th:only-of-type {\n",
       "        vertical-align: middle;\n",
       "    }\n",
       "\n",
       "    .dataframe tbody tr th {\n",
       "        vertical-align: top;\n",
       "    }\n",
       "\n",
       "    .dataframe thead th {\n",
       "        text-align: right;\n",
       "    }\n",
       "</style>\n",
       "<table border=\"1\" class=\"dataframe\">\n",
       "  <thead>\n",
       "    <tr style=\"text-align: right;\">\n",
       "      <th></th>\n",
       "      <th>empty_slots</th>\n",
       "      <th>extra</th>\n",
       "      <th>free_bikes</th>\n",
       "      <th>id</th>\n",
       "      <th>latitude</th>\n",
       "      <th>longitude</th>\n",
       "      <th>name</th>\n",
       "      <th>timestamp</th>\n",
       "    </tr>\n",
       "  </thead>\n",
       "  <tbody>\n",
       "    <tr>\n",
       "      <th>0</th>\n",
       "      <td>15</td>\n",
       "      <td>{'installDate': '1278947280000', 'installed': ...</td>\n",
       "      <td>4</td>\n",
       "      <td>7f3020118e56165ed8b2f61899edb971</td>\n",
       "      <td>51.529163</td>\n",
       "      <td>-0.109971</td>\n",
       "      <td>001023 - River Street , Clerkenwell</td>\n",
       "      <td>2023-07-08T01:19:13.569000Z</td>\n",
       "    </tr>\n",
       "    <tr>\n",
       "      <th>1</th>\n",
       "      <td>35</td>\n",
       "      <td>{'installDate': '1278585780000', 'installed': ...</td>\n",
       "      <td>2</td>\n",
       "      <td>67e6c16bce05410ba4b1f0f5000726ea</td>\n",
       "      <td>51.499607</td>\n",
       "      <td>-0.197574</td>\n",
       "      <td>001018 - Phillimore Gardens, Kensington</td>\n",
       "      <td>2023-07-08T01:19:13.571000Z</td>\n",
       "    </tr>\n",
       "    <tr>\n",
       "      <th>2</th>\n",
       "      <td>14</td>\n",
       "      <td>{'installDate': '1278242460000', 'installed': ...</td>\n",
       "      <td>4</td>\n",
       "      <td>26184215d38089fcad213ef222e69780</td>\n",
       "      <td>51.505974</td>\n",
       "      <td>-0.092754</td>\n",
       "      <td>001024 - Park Street, Bankside</td>\n",
       "      <td>2023-07-08T01:19:13.577000Z</td>\n",
       "    </tr>\n",
       "    <tr>\n",
       "      <th>3</th>\n",
       "      <td>18</td>\n",
       "      <td>{'installDate': '1278340440000', 'installed': ...</td>\n",
       "      <td>6</td>\n",
       "      <td>1eabd7ac8e781befd03f52ef56a18aa7</td>\n",
       "      <td>51.523951</td>\n",
       "      <td>-0.122502</td>\n",
       "      <td>001022 - Brunswick Square, Bloomsbury</td>\n",
       "      <td>2023-07-08T01:19:13.578000Z</td>\n",
       "    </tr>\n",
       "    <tr>\n",
       "      <th>4</th>\n",
       "      <td>48</td>\n",
       "      <td>{'installDate': '1278340620000', 'installed': ...</td>\n",
       "      <td>1</td>\n",
       "      <td>23efb32f80a9dcd0e4f61fb44b353ce1</td>\n",
       "      <td>51.521681</td>\n",
       "      <td>-0.130432</td>\n",
       "      <td>000980 - Malet Street, Bloomsbury</td>\n",
       "      <td>2023-07-08T01:19:13.579000Z</td>\n",
       "    </tr>\n",
       "  </tbody>\n",
       "</table>\n",
       "</div>"
      ],
      "text/plain": [
       "   empty_slots                                              extra  free_bikes  \\\n",
       "0           15  {'installDate': '1278947280000', 'installed': ...           4   \n",
       "1           35  {'installDate': '1278585780000', 'installed': ...           2   \n",
       "2           14  {'installDate': '1278242460000', 'installed': ...           4   \n",
       "3           18  {'installDate': '1278340440000', 'installed': ...           6   \n",
       "4           48  {'installDate': '1278340620000', 'installed': ...           1   \n",
       "\n",
       "                                 id   latitude  longitude  \\\n",
       "0  7f3020118e56165ed8b2f61899edb971  51.529163  -0.109971   \n",
       "1  67e6c16bce05410ba4b1f0f5000726ea  51.499607  -0.197574   \n",
       "2  26184215d38089fcad213ef222e69780  51.505974  -0.092754   \n",
       "3  1eabd7ac8e781befd03f52ef56a18aa7  51.523951  -0.122502   \n",
       "4  23efb32f80a9dcd0e4f61fb44b353ce1  51.521681  -0.130432   \n",
       "\n",
       "                                      name                    timestamp  \n",
       "0      001023 - River Street , Clerkenwell  2023-07-08T01:19:13.569000Z  \n",
       "1  001018 - Phillimore Gardens, Kensington  2023-07-08T01:19:13.571000Z  \n",
       "2           001024 - Park Street, Bankside  2023-07-08T01:19:13.577000Z  \n",
       "3    001022 - Brunswick Square, Bloomsbury  2023-07-08T01:19:13.578000Z  \n",
       "4        000980 - Malet Street, Bloomsbury  2023-07-08T01:19:13.579000Z  "
      ]
     },
     "execution_count": 6,
     "metadata": {},
     "output_type": "execute_result"
    }
   ],
   "source": [
    "df.head()"
   ]
  },
  {
   "cell_type": "code",
   "execution_count": 7,
   "id": "0e70a653",
   "metadata": {},
   "outputs": [],
   "source": [
    "df.to_csv('df_city_bike.csv')"
   ]
  }
 ],
 "metadata": {
  "kernelspec": {
   "display_name": "perm_enviro",
   "language": "python",
   "name": "perm_enviro"
  },
  "language_info": {
   "codemirror_mode": {
    "name": "ipython",
    "version": 3
   },
   "file_extension": ".py",
   "mimetype": "text/x-python",
   "name": "python",
   "nbconvert_exporter": "python",
   "pygments_lexer": "ipython3",
   "version": "3.7.12"
  }
 },
 "nbformat": 4,
 "nbformat_minor": 5
}
